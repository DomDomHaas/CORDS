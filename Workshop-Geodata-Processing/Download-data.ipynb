{
 "cells": [
  {
   "cell_type": "code",
   "execution_count": null,
   "id": "44afa4ca-d695-4823-b262-986a27a8cbac",
   "metadata": {},
   "outputs": [],
   "source": [
    "import wget\n",
    "import zipfile\n",
    "import os\n",
    "os.makedirs('data', exist_ok=True)\n",
    "def unzip_file(zip_file_path, outdir='data'):\n",
    "    # Open the zip file in read mode\n",
    "    with zipfile.ZipFile(zip_file_path, 'r') as zip_ref:\n",
    "        # Extract all the contents into the specified directory\n",
    "        zip_ref.extractall(outdir)"
   ]
  },
  {
   "cell_type": "code",
   "execution_count": null,
   "id": "66eb63a0-1ce9-42d8-bb9f-c1326acebd03",
   "metadata": {},
   "outputs": [],
   "source": [
    "# swiss glacier inventory 2016\n",
    "url = 'https://doi.glamos.ch/data/inventory/inventory_sgi2016_r2020.zip'\n",
    "output_filename = 'data/sgi_2016.zip'\n",
    "\n",
    "wget.download(url, out=output_filename)\n",
    "unzip_file(output_filename, 'data/sgi_2016')"
   ]
  },
  {
   "cell_type": "code",
   "execution_count": null,
   "id": "55603c10-54cd-4b8e-b66a-e2f7cbe0cb35",
   "metadata": {},
   "outputs": [],
   "source": [
    "# download global ice thickness\n",
    "url = 'https://www.research-collection.ethz.ch/bitstream/handle/20.500.11850/315707/composite_thickness_RGI60-11.zip?sequence=1&isAllowed=y'\n",
    "output_filename = 'data/composite_thickness_RGI60-11.zip'\n",
    "\n",
    "wget.download(url, out=output_filename)\n",
    "unzip_file(output_filename)"
   ]
  },
  {
   "cell_type": "code",
   "execution_count": null,
   "id": "7f90e27e-5ab7-4b72-8f12-34c403b7b687",
   "metadata": {},
   "outputs": [],
   "source": [
    "# download glathida\n",
    "url = 'https://www.gtn-g.ch/database/glathida-3.1.0.zip'\n",
    "output_filename = 'data/glathida-3.1.0.zip'\n",
    "\n",
    "wget.download(url, out=output_filename)\n",
    "unzip_file(output_filename)"
   ]
  },
  {
   "cell_type": "code",
   "execution_count": null,
   "id": "50949acb-57e9-46f2-8789-322908f7c48b",
   "metadata": {},
   "outputs": [],
   "source": []
  },
  {
   "cell_type": "code",
   "execution_count": null,
   "id": "44d0374d-8364-48f3-b665-38041f7c18a0",
   "metadata": {},
   "outputs": [],
   "source": []
  }
 ],
 "metadata": {
  "kernelspec": {
   "display_name": "Python 3 (ipykernel)",
   "language": "python",
   "name": "python3"
  },
  "language_info": {
   "codemirror_mode": {
    "name": "ipython",
    "version": 3
   },
   "file_extension": ".py",
   "mimetype": "text/x-python",
   "name": "python",
   "nbconvert_exporter": "python",
   "pygments_lexer": "ipython3",
   "version": "3.11.9"
  }
 },
 "nbformat": 4,
 "nbformat_minor": 5
}
