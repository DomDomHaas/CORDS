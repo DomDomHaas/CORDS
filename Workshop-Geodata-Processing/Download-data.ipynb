{
 "cells": [
  {
   "cell_type": "code",
   "execution_count": null,
   "id": "44afa4ca-d695-4823-b262-986a27a8cbac",
   "metadata": {},
   "outputs": [],
   "source": [
    "import wget\n",
    "import zipfile\n",
    "import os\n",
    "os.makedirs('data', exist_ok=True)\n",
    "def unzip_file(zip_file_path, outdir='data'):\n",
    "    # Open the zip file in read mode\n",
    "    with zipfile.ZipFile(zip_file_path, 'r') as zip_ref:\n",
    "        # Extract all the contents into the specified directory\n",
    "        zip_ref.extractall(outdir)"
   ]
  },
  {
   "cell_type": "code",
   "execution_count": null,
   "id": "66eb63a0-1ce9-42d8-bb9f-c1326acebd03",
   "metadata": {},
   "outputs": [],
   "source": [
    "# swiss glacier inventory 2016\n",
    "url = 'https://doi.glamos.ch/data/inventory/inventory_sgi2016_r2020.zip'\n",
    "output_filename = 'data/sgi_2016.zip'\n",
    "\n",
    "wget.download(url, out=output_filename)\n",
    "unzip_file(output_filename, 'data/sgi_2016')"
   ]
  },
  {
   "cell_type": "code",
   "execution_count": null,
   "id": "55603c10-54cd-4b8e-b66a-e2f7cbe0cb35",
   "metadata": {},
   "outputs": [],
   "source": [
    "# download global ice thickness\n",
    "url = 'https://www.research-collection.ethz.ch/bitstream/handle/20.500.11850/315707/composite_thickness_RGI60-11.zip?sequence=1&isAllowed=y'\n",
    "output_filename = 'data/composite_thickness_RGI60-11.zip'\n",
    "\n",
    "wget.download(url, out=output_filename)\n",
    "unzip_file(output_filename)"
   ]
  },
  {
   "cell_type": "code",
   "execution_count": null,
   "id": "7f90e27e-5ab7-4b72-8f12-34c403b7b687",
   "metadata": {},
   "outputs": [],
   "source": [
    "# download glathida\n",
    "url = 'https://www.gtn-g.ch/database/glathida-3.1.0.zip'\n",
    "output_filename = 'data/glathida-3.1.0.zip'\n",
    "\n",
    "wget.download(url, out=output_filename)"
   ]
  },
  {
   "cell_type": "code",
   "execution_count": 12,
   "id": "1910e9f3-13e5-4620-99b5-9d1cb992d319",
   "metadata": {},
   "outputs": [
    {
     "name": "stdout",
     "output_type": "stream",
     "text": [
      "File downloaded successfully and saved as data/planet.zip\n"
     ]
    }
   ],
   "source": [
    "# download Digital Elevation Models and multispectral data\n",
    "# From your command line (in the data directory), run the following commands to download addtional data:\n",
    "# wget 'https://filesender.switch.ch/filesender2/download.php?token=022a1b40-b8be-4773-8d49-39d736a44e82&archive_format=zip&files_ids=693779,693780,693781,693782,693783,693784,693785,693786,693787,693788' -O switch.zip"
   ]
  },
  {
   "cell_type": "markdown",
   "id": "0e08229e-2cb5-405c-8408-b3a003ba5450",
   "metadata": {},
   "source": [
    "### Additional datasets\n",
    "\n",
    "Find additional files at the following links:\n",
    "1) [Swiss Ice Thickness estimates](https://www.research-collection.ethz.ch/handle/20.500.11850/434697)\n",
    "2) [data.geo.admin.ch](https://data.geo.admin.ch): You can explore the available data also on map.geo.admin.ch. You can use the code below to retrieve data from the Swiss Geodata Portal. Navigate to the desired dataset --> download --> select the right tile --> copy download link."
   ]
  },
  {
   "cell_type": "code",
   "execution_count": 26,
   "id": "76294e75-c400-40c8-bbc2-2ba83f206068",
   "metadata": {},
   "outputs": [],
   "source": [
    "dataset_url = \"https://data.geo.admin.ch/ch.bafu.landesforstinventar-kantone/landesforstinventar-kantone/landesforstinventar-kantone_2056.geojson\"\n",
    "\n",
    "# Local filename where you want to save the downloaded file\n",
    "local_filename = \"data/kantone.geojson\"\n",
    "\n",
    "# Download the dataset\n",
    "with requests.get(dataset_url, stream=True) as r:\n",
    "    r.raise_for_status()\n",
    "    with open(local_filename, 'wb') as f:\n",
    "        for chunk in r.iter_content(chunk_size=8192):\n",
    "                    f.write(chunk)\n",
    "\n"
   ]
  },
  {
   "cell_type": "code",
   "execution_count": null,
   "id": "f6e88559-e830-4726-ac9a-1000d4d83b10",
   "metadata": {},
   "outputs": [],
   "source": []
  }
 ],
 "metadata": {
  "kernelspec": {
   "display_name": "Python 3 (ipykernel)",
   "language": "python",
   "name": "python3"
  },
  "language_info": {
   "codemirror_mode": {
    "name": "ipython",
    "version": 3
   },
   "file_extension": ".py",
   "mimetype": "text/x-python",
   "name": "python",
   "nbconvert_exporter": "python",
   "pygments_lexer": "ipython3",
   "version": "3.11.9"
  }
 },
 "nbformat": 4,
 "nbformat_minor": 5
}
