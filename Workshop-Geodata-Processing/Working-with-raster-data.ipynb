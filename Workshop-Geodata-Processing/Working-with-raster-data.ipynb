{
 "cells": [
  {
   "cell_type": "code",
   "execution_count": 1,
   "id": "1b213cb9-48da-4456-836c-a3000554a2ce",
   "metadata": {},
   "outputs": [],
   "source": [
    "import numpy as np\n",
    "import rasterio\n",
    "import geopandas as gpd\n",
    "from rasterio.enums import Resampling\n",
    "from rasterio.transform import from_origin\n",
    "from rasterio.mask import mask\n",
    "import geopandas as gpd\n",
    "from osgeo import gdal, gdalconst\n",
    "import xdem\n",
    "import matplotlib.pyplot as plt"
   ]
  },
  {
   "cell_type": "code",
   "execution_count": 2,
   "id": "9aeae3b4-21a7-4af8-8450-56e257ab934c",
   "metadata": {},
   "outputs": [],
   "source": [
    "#load with rasterio\n",
    "with rasterio.open('./data/DEMs/Silvretta-2020-2m.tif') as dem_src:\n",
    "    dem2020 = dem_src.read(1)"
   ]
  },
  {
   "cell_type": "code",
   "execution_count": null,
   "id": "05db2b02-657c-4473-b3a2-54b235b42ed2",
   "metadata": {},
   "outputs": [],
   "source": [
    "# Explore metadata\n",
    "# What is the file resolution and what is the coordinate system?\n",
    "dem_src.meta"
   ]
  },
  {
   "cell_type": "code",
   "execution_count": null,
   "id": "555d2d91-234c-439f-9ba2-a6d1d3f6728f",
   "metadata": {},
   "outputs": [],
   "source": [
    "dem_src.bounds"
   ]
  },
  {
   "cell_type": "code",
   "execution_count": null,
   "id": "9f57a37e-cbe5-4e1a-8d71-918dd1d49af3",
   "metadata": {},
   "outputs": [],
   "source": [
    "# Plot elevation\n",
    "f, ax = plt.subplots(figsize=(8,8))\n",
    "cax = ax.imshow(dem2020,\n",
    "           vmin=2000, \n",
    "           vmax=3300, \n",
    "           cmap='terrain')\n",
    "cbar = f.colorbar(cax, ax=ax, label='Elevation', shrink=0.5)\n",
    "ax.set_title('Silvretta elevation')\n",
    "plt.show()"
   ]
  },
  {
   "cell_type": "code",
   "execution_count": null,
   "id": "21de2bda-8248-4119-add5-c229b00b2107",
   "metadata": {},
   "outputs": [],
   "source": [
    "# Plot elevation\n",
    "# Get the bounds of the raster (leave this for participants to figure out, i.e. how to set this exactly).\n",
    "bounds = dem_src.bounds\n",
    "extent = [bounds.left, bounds.right, bounds.bottom, bounds.top]"
   ]
  },
  {
   "cell_type": "code",
   "execution_count": null,
   "id": "81c8ac04-3063-4e88-83d9-8475e7e2091f",
   "metadata": {},
   "outputs": [],
   "source": [
    "#mask no-data values for prettyness:\n",
    "if dem_src.nodata is not None:\n",
    "    dem2020 = np.ma.masked_equal(dem2020, dem_src.nodata)"
   ]
  },
  {
   "cell_type": "code",
   "execution_count": null,
   "id": "50e3b138-2b75-47b0-ba04-fcc04533308d",
   "metadata": {},
   "outputs": [],
   "source": [
    "f, ax = plt.subplots(figsize=(8,8))\n",
    "cax = ax.imshow(dem2020,\n",
    "           extent=extent,\n",
    "           vmin=2000, \n",
    "           vmax=3300, \n",
    "           cmap='terrain')\n",
    "cbar = f.colorbar(cax, ax=ax, label='Elevation', shrink=0.5)\n",
    "ax.set_title('Silvretta elevation')\n",
    "plt.show()"
   ]
  },
  {
   "cell_type": "code",
   "execution_count": 3,
   "id": "7b63c0b0-ce5e-4bb9-a438-dec9345fdfbb",
   "metadata": {},
   "outputs": [],
   "source": [
    "dem = xdem.DEM('./data/DEMs/Silvretta-2020-2m.tif')"
   ]
  },
  {
   "cell_type": "code",
   "execution_count": null,
   "id": "4433feae-7542-419c-938a-0aba6b6541ed",
   "metadata": {},
   "outputs": [],
   "source": [
    "dem.plot() #notice how it already knows where it is in the world"
   ]
  },
  {
   "cell_type": "code",
   "execution_count": null,
   "id": "6f3856d0-9925-423f-bcc3-624d7af0a70c",
   "metadata": {},
   "outputs": [],
   "source": [
    "xdem.terrain.hillshade(dem).plot(cmap='Greys_r')"
   ]
  },
  {
   "cell_type": "code",
   "execution_count": null,
   "id": "afd9072c-f6d7-442f-b74a-af6b51b10212",
   "metadata": {},
   "outputs": [],
   "source": [
    "hillshade = xdem.terrain.hillshade(dem) #rendering on the fly is slow, let's save to a variable"
   ]
  },
  {
   "cell_type": "code",
   "execution_count": 4,
   "id": "eec0670a-9da5-49ac-a819-3e591082b755",
   "metadata": {},
   "outputs": [],
   "source": [
    "rgi_thickness = xdem.DEM('./data/RGI60-11/RGI60-11.00804_thickness.tif')"
   ]
  },
  {
   "cell_type": "markdown",
   "id": "9818d4dc-8c3a-4621-be37-ce878a667847",
   "metadata": {},
   "source": [
    "Problem: ice thickness and our points are in different coordinate systems. We know how to reproject vector data,\n",
    "so let's reproject the raster dataset instead."
   ]
  },
  {
   "cell_type": "code",
   "execution_count": 5,
   "id": "ba424591-ef4d-4e44-83a5-1732bdb3915c",
   "metadata": {},
   "outputs": [],
   "source": [
    "# with xdem, reprojection is easy! \n",
    "thickness_lv95 = rgi_thickness.reproject(dem)"
   ]
  },
  {
   "cell_type": "code",
   "execution_count": 6,
   "id": "0d21686b-77d2-4e0e-aef9-7b853b288bc0",
   "metadata": {},
   "outputs": [],
   "source": [
    "# load our outline \n",
    "outline = gpd.read_file('./data/silvretta_outline.geojson')"
   ]
  },
  {
   "cell_type": "code",
   "execution_count": null,
   "id": "e7de6e90-5ff2-4d4f-bc28-6763aca33415",
   "metadata": {},
   "outputs": [],
   "source": [
    "f, ax = plt.subplots()\n",
    "hillshade.plot(ax=ax,\n",
    "               cmap='Greys_r',\n",
    "               add_cbar=False,\n",
    "               alpha=1.0)\n",
    "\n",
    "thickness_lv95.plot(ax=ax, \n",
    "              cmap='viridis', \n",
    "              alpha=0.6)\n",
    "outline.plot(ax=ax, facecolor='none', edgecolor='orange')\n",
    "ax.set_xlim([outline.bounds.minx[0], outline.bounds.maxx[0]])\n",
    "ax.set_ylim([outline.bounds.miny[0], outline.bounds.maxy[0]])"
   ]
  },
  {
   "cell_type": "code",
   "execution_count": 66,
   "id": "5d3a1416-1f2f-4354-8d06-a916e97ca770",
   "metadata": {},
   "outputs": [],
   "source": [
    "# sampling a raster dataset at predefined points or extracting information inside a \n",
    "# load geojson\n",
    "sampling_points = gpd.read_file('./data/sampling_points.geojson')"
   ]
  },
  {
   "cell_type": "code",
   "execution_count": 8,
   "id": "18230892-6320-4305-9473-7e33f016179f",
   "metadata": {},
   "outputs": [],
   "source": [
    "thickness_rio = thickness_lv95.to_rio_dataset()"
   ]
  },
  {
   "cell_type": "code",
   "execution_count": 9,
   "id": "96599e4a-24c2-441b-9f17-9b489737c72c",
   "metadata": {},
   "outputs": [
    {
     "data": {
      "text/plain": [
       "-99999.0"
      ]
     },
     "execution_count": 9,
     "metadata": {},
     "output_type": "execute_result"
    }
   ],
   "source": [
    "thickness_rio.nodata"
   ]
  },
  {
   "cell_type": "code",
   "execution_count": 10,
   "id": "4cdbd613-9a14-40d1-9168-d257558aadca",
   "metadata": {},
   "outputs": [],
   "source": [
    "masked_data, masked_transform = mask(thickness_rio, outline.geometry, crop=True, nodata=thickness_rio.nodata)"
   ]
  },
  {
   "cell_type": "code",
   "execution_count": 11,
   "id": "f6935691-9fdb-40cb-bae8-6b543048823d",
   "metadata": {},
   "outputs": [],
   "source": [
    "# Exclude NaN values from the masked array\n",
    "masked_data = np.ma.masked_equal(masked_data, thickness_rio.nodata)"
   ]
  },
  {
   "cell_type": "code",
   "execution_count": 13,
   "id": "5704348b-f62b-4c83-ac3f-39dc86ce1f98",
   "metadata": {},
   "outputs": [
    {
     "name": "stdout",
     "output_type": "stream",
     "text": [
      "Zonal Statistics:\n",
      "min: 0.0\n",
      "max: 153.71749877929688\n",
      "mean: 77.89014095920692\n",
      "median: 79.30809783935547\n",
      "std: 24.415327814558005\n"
     ]
    }
   ],
   "source": [
    "stats = {\n",
    "    'min': masked_data.min(),\n",
    "    'max': masked_data.max(),\n",
    "    'mean': masked_data.mean(),\n",
    "    'median': np.ma.median(masked_data),\n",
    "    'std': masked_data.std()\n",
    "}\n",
    "\n",
    "print(\"Zonal Statistics:\")\n",
    "for key, value in stats.items():\n",
    "    print(f\"{key}: {value}\")"
   ]
  },
  {
   "cell_type": "code",
   "execution_count": null,
   "id": "40dc7891-c111-42e4-a62d-018efe435786",
   "metadata": {},
   "outputs": [],
   "source": [
    "# Can you calculate the volume of ice inside the outline?"
   ]
  },
  {
   "cell_type": "code",
   "execution_count": 67,
   "id": "d365e50a-4be6-4580-922f-eb7073a503be",
   "metadata": {},
   "outputs": [
    {
     "name": "stdout",
     "output_type": "stream",
     "text": [
      "   Points                         geometry  ice_thickness\n",
      "0  Point1  POINT (2800379.700 1192725.200)      87.074844\n",
      "1  Point2  POINT (2801251.500 1192437.900)     105.058449\n",
      "2  Point3  POINT (2802045.600 1191907.400)     125.354164\n"
     ]
    }
   ],
   "source": [
    "# Create a list to store raster values at points\n",
    "raster_values_at_points = []\n",
    "\n",
    "# Sample raster at each point\n",
    "for index, point in sampling_points.iterrows():\n",
    "    # Convert point coordinates to pixel coordinates\n",
    "    pixel_coords = rasterio.transform.rowcol(thickness_rio.transform, point.geometry.x, point.geometry.y)\n",
    "\n",
    "    # Get raster value at the pixel coordinate\n",
    "    value = thickness_rio.read(1)[pixel_coords]\n",
    "\n",
    "    # Add value to the list\n",
    "    raster_values_at_points.append(value)\n",
    "\n",
    "# Add raster values to GeoDataFrame\n",
    "sampling_points['ice_thickness'] = raster_values_at_points\n",
    "\n",
    "print(sampling_points)"
   ]
  },
  {
   "cell_type": "markdown",
   "id": "86d98a40-e6a1-4f5c-bd6a-e7ca5e9d4d20",
   "metadata": {},
   "source": [
    "### Now we want to get stats for a series of polygons. Let's say we don't trust the individual point measurements, so we put a buffer around our initial points"
   ]
  },
  {
   "cell_type": "code",
   "execution_count": 74,
   "id": "a60e31cd-d1b2-49f2-8098-7562372ddeb3",
   "metadata": {},
   "outputs": [],
   "source": [
    "sampling_points['buffered']= sampling_points.geometry.buffer(100)"
   ]
  },
  {
   "cell_type": "code",
   "execution_count": 75,
   "id": "fe81fce7-eb5e-4e31-9c82-9e2c22cebaaf",
   "metadata": {},
   "outputs": [],
   "source": [
    "buffered_points = sampling_points.copy()\n",
    "buffered_points = buffered_points.drop(['geometry','ice_thickness'], axis=1)"
   ]
  },
  {
   "cell_type": "code",
   "execution_count": 78,
   "id": "81caf3ca-a207-4d20-8ebd-fa9037524860",
   "metadata": {},
   "outputs": [
    {
     "data": {
      "text/html": [
       "<div>\n",
       "<style scoped>\n",
       "    .dataframe tbody tr th:only-of-type {\n",
       "        vertical-align: middle;\n",
       "    }\n",
       "\n",
       "    .dataframe tbody tr th {\n",
       "        vertical-align: top;\n",
       "    }\n",
       "\n",
       "    .dataframe thead th {\n",
       "        text-align: right;\n",
       "    }\n",
       "</style>\n",
       "<table border=\"1\" class=\"dataframe\">\n",
       "  <thead>\n",
       "    <tr style=\"text-align: right;\">\n",
       "      <th></th>\n",
       "      <th>Points</th>\n",
       "      <th>buffered</th>\n",
       "    </tr>\n",
       "  </thead>\n",
       "  <tbody>\n",
       "    <tr>\n",
       "      <th>0</th>\n",
       "      <td>Point1</td>\n",
       "      <td>POLYGON ((2800479.700 1192725.200, 2800479.218...</td>\n",
       "    </tr>\n",
       "    <tr>\n",
       "      <th>1</th>\n",
       "      <td>Point2</td>\n",
       "      <td>POLYGON ((2801351.500 1192437.900, 2801351.018...</td>\n",
       "    </tr>\n",
       "    <tr>\n",
       "      <th>2</th>\n",
       "      <td>Point3</td>\n",
       "      <td>POLYGON ((2802145.600 1191907.400, 2802145.118...</td>\n",
       "    </tr>\n",
       "  </tbody>\n",
       "</table>\n",
       "</div>"
      ],
      "text/plain": [
       "   Points                                           buffered\n",
       "0  Point1  POLYGON ((2800479.700 1192725.200, 2800479.218...\n",
       "1  Point2  POLYGON ((2801351.500 1192437.900, 2801351.018...\n",
       "2  Point3  POLYGON ((2802145.600 1191907.400, 2802145.118..."
      ]
     },
     "execution_count": 78,
     "metadata": {},
     "output_type": "execute_result"
    }
   ],
   "source": [
    "buffered_points"
   ]
  },
  {
   "cell_type": "code",
   "execution_count": 77,
   "id": "0e9f48d3-12e2-4c97-a20a-07ce5603087b",
   "metadata": {},
   "outputs": [],
   "source": [
    "buffered_points = buffered_points.set_geometry('buffered')"
   ]
  },
  {
   "cell_type": "code",
   "execution_count": 79,
   "id": "a9d6d218-bc1c-4626-b44f-aa341a6dd855",
   "metadata": {},
   "outputs": [
    {
     "name": "stdout",
     "output_type": "stream",
     "text": [
      "   Points                                           buffered         min  \\\n",
      "0  Point1  POLYGON ((2800479.700 1192725.200, 2800479.218...   73.778915   \n",
      "1  Point2  POLYGON ((2801351.500 1192437.900, 2801351.018...   90.493332   \n",
      "2  Point3  POLYGON ((2802145.600 1191907.400, 2802145.118...  107.086716   \n",
      "\n",
      "          max        mean      median       std  \n",
      "0   94.967384   85.350885   85.795532  5.300182  \n",
      "1  114.209724  104.534113  105.653465  4.915701  \n",
      "2  134.701660  122.876816  123.341003  6.527680  \n"
     ]
    }
   ],
   "source": [
    "raster_stats_for_polygons = []\n",
    "\n",
    "for index, row in sampling_points.iterrows():\n",
    "    # Access the geometry of the current row\n",
    "    #polygon = sampling_points.geometry[i]\n",
    "    \n",
    "    masked_data, masked_transform = mask(thickness_rio, [row.buffered], crop=True, nodata=thickness_rio.nodata)\n",
    "    \n",
    "    # Exclude nodata values from the masked array\n",
    "    masked_data = np.ma.masked_equal(masked_data, thickness_rio.nodata)\n",
    "    \n",
    "    # Calculate statistics of the masked array\n",
    "    stats = {\n",
    "        'min': masked_data.min(),\n",
    "        'max': masked_data.max(),\n",
    "        'mean': masked_data.mean(),\n",
    "        'median': np.ma.median(masked_data),\n",
    "        'std': masked_data.std()\n",
    "    }\n",
    "    \n",
    "    # Add statistics to the list\n",
    "    raster_stats_for_polygons.append(stats)\n",
    "\n",
    "# Add raster statistics to GeoDataFrame\n",
    "buffered_points = buffered_points.assign(**{key: [stat[key] for stat in raster_stats_for_polygons] for key in raster_stats_for_polygons[0].keys()})\n",
    "\n",
    "print(buffered_points)"
   ]
  },
  {
   "cell_type": "code",
   "execution_count": null,
   "id": "0de94756-88a0-45c4-b135-0833f6ea7f91",
   "metadata": {},
   "outputs": [],
   "source": [
    "# loading a second DEM and differencing them"
   ]
  },
  {
   "cell_type": "code",
   "execution_count": null,
   "id": "2c48b9a5-e29f-4619-9325-4f2d96f24af1",
   "metadata": {},
   "outputs": [],
   "source": [
    "dem2014 = xdem.DEM('./data/DEMs/2014_SILVRETTA_DSM_1m_LV95_LN02_CIR_low_raw.tif')"
   ]
  },
  {
   "cell_type": "code",
   "execution_count": null,
   "id": "7d836795-be01-4462-b6c2-2d4b038815c1",
   "metadata": {},
   "outputs": [],
   "source": [
    "dem2014_reproj = dem2014.reproject(dem)"
   ]
  },
  {
   "cell_type": "code",
   "execution_count": null,
   "id": "f70a28fc-4001-4ba0-8afd-ed68aa96ac5a",
   "metadata": {},
   "outputs": [],
   "source": [
    "diff = dem2014_reproj-dem"
   ]
  },
  {
   "cell_type": "code",
   "execution_count": null,
   "id": "7774d9c7-0e8d-4348-b48f-f47f1485772e",
   "metadata": {},
   "outputs": [],
   "source": [
    "f, ax = plt.subplots()\n",
    "diff.plot(ax=ax, cmap='bwr', vmin=-10, vmax=10)\n",
    "sgi.plot(ax=ax, facecolor='none')\n",
    "ax.set_xlim([2795000, 2811000])\n",
    "ax.set_ylim([1186250, 1195000])"
   ]
  },
  {
   "cell_type": "code",
   "execution_count": null,
   "id": "59ce8b54-b6be-4f3f-9c28-38b23ed27dbf",
   "metadata": {},
   "outputs": [],
   "source": [
    "sgi = gpd.read_file('data/sgi_2016/SGI_2016_glaciers.shp')"
   ]
  },
  {
   "cell_type": "code",
   "execution_count": null,
   "id": "b5faac9e-6bfc-4bce-bce8-ad12845e79c4",
   "metadata": {},
   "outputs": [],
   "source": []
  }
 ],
 "metadata": {
  "kernelspec": {
   "display_name": "Python 3 (ipykernel)",
   "language": "python",
   "name": "python3"
  },
  "language_info": {
   "codemirror_mode": {
    "name": "ipython",
    "version": 3
   },
   "file_extension": ".py",
   "mimetype": "text/x-python",
   "name": "python",
   "nbconvert_exporter": "python",
   "pygments_lexer": "ipython3",
   "version": "3.11.9"
  }
 },
 "nbformat": 4,
 "nbformat_minor": 5
}
