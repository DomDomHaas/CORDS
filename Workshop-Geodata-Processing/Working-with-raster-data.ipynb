{
 "cells": [
  {
   "cell_type": "code",
   "execution_count": 1,
   "id": "1b213cb9-48da-4456-836c-a3000554a2ce",
   "metadata": {},
   "outputs": [],
   "source": [
    "import numpy as np\n",
    "import rasterio\n",
    "import geopandas as gpd\n",
    "from rasterio.enums import Resampling\n",
    "from rasterio.transform import from_origin, Affine\n",
    "from rasterio.mask import mask\n",
    "import geopandas as gpd\n",
    "from scipy.interpolate import griddata\n",
    "from osgeo import gdal, gdalconst\n",
    "import xdem\n",
    "import matplotlib.pyplot as plt"
   ]
  },
  {
   "cell_type": "markdown",
   "id": "8063c97c-9a84-47a0-954a-1f74bb44b814",
   "metadata": {},
   "source": [
    "### 1. Loading and inspecting raster data with rasterio\n",
    "\n",
    "To explore how raster data is stored in python when it is loaded with rasterio by answering the following questions:\n",
    "\n",
    "1) What is stored in dem_src, what is stored in dem2020?\n",
    "2) Explore the metadata. What are the dimensions, coordinate reference system, and resolution of this dataset?\n",
    "3) Can you also derive the no-data value, and the elevation range of the DEM?\n",
    "4) Plot the 2020 DEM (define some reasonable minimum and maximum values). What do you notice about the axes? Where in space is this data?\n",
    "5) Plot the data again, passing plt.imshow() the correct extent."
   ]
  },
  {
   "cell_type": "code",
   "execution_count": 2,
   "id": "9aeae3b4-21a7-4af8-8450-56e257ab934c",
   "metadata": {},
   "outputs": [],
   "source": [
    "#load with rasterio\n",
    "with rasterio.open('./data/DEMs/Silvretta-2020-2m.tif') as dem_src:\n",
    "    dem2020 = dem_src.read(1)"
   ]
  },
  {
   "cell_type": "code",
   "execution_count": 8,
   "id": "9805883d-6181-47cc-816b-d4472dc8a549",
   "metadata": {},
   "outputs": [
    {
     "data": {
      "text/plain": [
       "ellipsis"
      ]
     },
     "execution_count": 8,
     "metadata": {},
     "output_type": "execute_result"
    }
   ],
   "source": [
    "# What datatypes are dem_src and dem2020, and what does dem2020 contain?\n",
    "type(...)"
   ]
  },
  {
   "cell_type": "code",
   "execution_count": 9,
   "id": "05db2b02-657c-4473-b3a2-54b235b42ed2",
   "metadata": {},
   "outputs": [
    {
     "data": {
      "text/plain": [
       "{'driver': 'GTiff',\n",
       " 'dtype': 'float32',\n",
       " 'nodata': -3.4028234663852886e+38,\n",
       " 'width': 4623,\n",
       " 'height': 3312,\n",
       " 'count': 1,\n",
       " 'crs': CRS.from_epsg(2056),\n",
       " 'transform': Affine(2.0, 0.0, 2797549.5,\n",
       "        0.0, -2.0, 1195031.0)}"
      ]
     },
     "execution_count": 9,
     "metadata": {},
     "output_type": "execute_result"
    }
   ],
   "source": [
    "# Explore metadata\n",
    "# What is the file resolution, the image dimensions, the spatial resolution, and the no-data value?\n",
    "dem_src.meta\n",
    " "
   ]
  },
  {
   "cell_type": "code",
   "execution_count": null,
   "id": "c37c3cb4-3482-4a07-aa7d-1a0e8ed8c772",
   "metadata": {},
   "outputs": [],
   "source": [
    "# What is the elevation range of the Digital Elevation Model?"
   ]
  },
  {
   "cell_type": "code",
   "execution_count": null,
   "id": "81c8ac04-3063-4e88-83d9-8475e7e2091f",
   "metadata": {},
   "outputs": [],
   "source": [
    "#mask no-data values for prettyness:\n",
    "if dem_src.nodata is not None:\n",
    "    dem2020 = np.ma.masked_equal(dem2020, dem_src.nodata)"
   ]
  },
  {
   "cell_type": "code",
   "execution_count": null,
   "id": "9f57a37e-cbe5-4e1a-8d71-918dd1d49af3",
   "metadata": {},
   "outputs": [],
   "source": [
    "# Plot elevation using a reasonable range for the elevation. How might you query this if you don't know?\n",
    "f, ax = plt.subplots(figsize=(8,8))\n",
    "cax = ax.imshow(dem2020,\n",
    "           vmin=..., \n",
    "           vmax=..., \n",
    "           cmap='terrain')\n",
    "cbar = f.colorbar(cax, ax=ax, label='Elevation', shrink=0.5)\n",
    "ax.set_title('Silvretta elevation')\n",
    "plt.show()"
   ]
  },
  {
   "cell_type": "code",
   "execution_count": null,
   "id": "21de2bda-8248-4119-add5-c229b00b2107",
   "metadata": {},
   "outputs": [],
   "source": [
    "# Plot elevation so that the data ends up on the right place on Earth!\n",
    "\n",
    "# Use the bounds and attributes thereof to define the spatial extent of the DEM. \n",
    "bounds = dem_src.bounds\n",
    "extent = [..., ..., ..., ...] #left, bottom, right, top"
   ]
  },
  {
   "cell_type": "code",
   "execution_count": null,
   "id": "50e3b138-2b75-47b0-ba04-fcc04533308d",
   "metadata": {},
   "outputs": [],
   "source": [
    "f, ax = plt.subplots(figsize=(8,8))\n",
    "cax = ax.imshow(dem2020,\n",
    "           extent=...,\n",
    "           vmin=..., \n",
    "           vmax=..., \n",
    "           cmap='terrain')\n",
    "cbar = f.colorbar(cax, ax=ax, label='Elevation', shrink=0.5)\n",
    "ax.set_title('Silvretta elevation')\n",
    "plt.show()"
   ]
  },
  {
   "attachments": {},
   "cell_type": "markdown",
   "id": "89966ba5-19cb-4a09-92f4-9502f140d4c1",
   "metadata": {},
   "source": [
    "### 2. Loading, reprojecting, and manipulating raster data with xdem\n",
    "\n",
    "xdem is designed to work with elevation data, but it can also be used for other raster data. It's built on rasterio (and by association gdal), but it's a bit more packaged. Load the same dataset again and\n",
    "\n",
    "1) Use the .plot() method and see how it plots. What do you notice / what is different with regard to using rasterio?\n",
    "2) Take a look a the xdem [terrain attributes](https://xdem.readthedocs.io/en/stable/terrain.html) and try to plot a hillshade.\n",
    "3) Load the ice thickness estimate from [Farinotti et al., 2019](https://www.nature.com/articles/s41561-019-0300-3) for Silvretta glacier and plot it. What do you notice with this?\n",
    "4) Create a plot that shows the ice thickness over the hillshade, including the glacier outline and a colorbar for the ice thickness!\n",
    "5) Already done? Load a second DEM and create and plot a difference map, showing the glacier outlines as well.\n"
   ]
  },
  {
   "cell_type": "code",
   "execution_count": null,
   "id": "7b63c0b0-ce5e-4bb9-a438-dec9345fdfbb",
   "metadata": {},
   "outputs": [],
   "source": [
    "dem = xdem.DEM(...) #load the dataset"
   ]
  },
  {
   "cell_type": "code",
   "execution_count": null,
   "id": "4433feae-7542-419c-938a-0aba6b6541ed",
   "metadata": {},
   "outputs": [],
   "source": [
    "dem.plot() #notice how it already knows where it is in the world"
   ]
  },
  {
   "cell_type": "code",
   "execution_count": null,
   "id": "6f3856d0-9925-423f-bcc3-624d7af0a70c",
   "metadata": {},
   "outputs": [],
   "source": [
    "# Plot a hillshade. You might want to define a more appropriate colormap. \n",
    "... .plot()"
   ]
  },
  {
   "cell_type": "code",
   "execution_count": null,
   "id": "afd9072c-f6d7-442f-b74a-af6b51b10212",
   "metadata": {},
   "outputs": [],
   "source": [
    "# write the hillshade to file for future use!\n",
    "hillshade = ..."
   ]
  },
  {
   "cell_type": "markdown",
   "id": "01f68639-cf44-4f73-bc16-dbf7ab1a7c2d",
   "metadata": {},
   "source": [
    "Let's use xdem to load another raster dataset, namely the ice thickness estimate"
   ]
  },
  {
   "cell_type": "code",
   "execution_count": 10,
   "id": "eec0670a-9da5-49ac-a819-3e591082b755",
   "metadata": {},
   "outputs": [],
   "source": [
    "rgi_thickness = xdem.DEM('./data/RGI60-11/RGI60-11.00804_thickness.tif') #Ice thickness estimate for Silvretta glacier from a global consensus estimate"
   ]
  },
  {
   "cell_type": "code",
   "execution_count": null,
   "id": "d3508de4-32a5-4f54-bb79-1feb538282b8",
   "metadata": {},
   "outputs": [],
   "source": [
    "# plot the ice thickness! Can you plot it with the DEM?"
   ]
  },
  {
   "cell_type": "markdown",
   "id": "9818d4dc-8c3a-4621-be37-ce878a667847",
   "metadata": {},
   "source": [
    "What is the problem? Take a look here for a solution (once you have identified the problem ;-) [hint](https://xdem.readthedocs.io/en/stable/gen_modules/xdem.DEM.reproject.html))"
   ]
  },
  {
   "cell_type": "code",
   "execution_count": null,
   "id": "ba424591-ef4d-4e44-83a5-1732bdb3915c",
   "metadata": {},
   "outputs": [],
   "source": [
    "# fix the problem! \n",
    "thickness_lv95 = ..."
   ]
  },
  {
   "cell_type": "code",
   "execution_count": null,
   "id": "0d21686b-77d2-4e0e-aef9-7b853b288bc0",
   "metadata": {},
   "outputs": [],
   "source": [
    "# load our outline \n",
    "outline = ..."
   ]
  },
  {
   "cell_type": "code",
   "execution_count": null,
   "id": "e7de6e90-5ff2-4d4f-bc28-6763aca33415",
   "metadata": {},
   "outputs": [],
   "source": [
    "#plot!\n",
    "f, ax = plt.subplots()\n",
    "hillshade.plot(ax=ax,\n",
    "               cmap=...,\n",
    "               add_cbar=...,\n",
    "               alpha=...)\n",
    "\n",
    "thickness_lv95.plot(ax=ax, \n",
    "              cmap=..., \n",
    "              cbar_title=..., \n",
    "              alpha=...)\n",
    "outline.plot(...)\n",
    "ax.set_xlim(..., ...)\n",
    "ax.set_ylim(..., ...)\n",
    "# add title\n",
    "# add axes labels"
   ]
  },
  {
   "cell_type": "code",
   "execution_count": null,
   "id": "0de94756-88a0-45c4-b135-0833f6ea7f91",
   "metadata": {},
   "outputs": [],
   "source": [
    "# loading a second DEM and differencing them"
   ]
  },
  {
   "cell_type": "code",
   "execution_count": null,
   "id": "d60a30f5-760d-4e9e-bc20-3eff57df55fb",
   "metadata": {},
   "outputs": [],
   "source": [
    "dem2014 = ..."
   ]
  },
  {
   "cell_type": "code",
   "execution_count": null,
   "id": "1c4d9cb1-0ac7-4532-9c87-ea8189c8e71e",
   "metadata": {},
   "outputs": [],
   "source": [
    "dem2014_reproj = ..."
   ]
  },
  {
   "cell_type": "code",
   "execution_count": null,
   "id": "b403a064-b50c-4dc6-9577-7a37865581d2",
   "metadata": {},
   "outputs": [],
   "source": [
    "diff = ..."
   ]
  },
  {
   "cell_type": "code",
   "execution_count": null,
   "id": "f78a7d16-4ecd-4a53-b970-c912be780b75",
   "metadata": {},
   "outputs": [],
   "source": [
    "sgi = ..."
   ]
  },
  {
   "cell_type": "code",
   "execution_count": null,
   "id": "7c1b4628-08a4-4e65-ac6d-aa95810fa630",
   "metadata": {},
   "outputs": [],
   "source": [
    "f, ax = plt.subplots()\n",
    "...\n",
    "...\n",
    "ax.set_xlim(..., ...)\n",
    "ax.set_ylim(..., ...)"
   ]
  },
  {
   "cell_type": "markdown",
   "id": "64cd52d4-ad55-4046-8634-ee6e8b071558",
   "metadata": {},
   "source": [
    "### 3. Extracting data from rasters: points, polygons, multi-polygons\n",
    "\n",
    "Oftentimes, we want to get information from raster datasets that are linked to vectordatasets, e.g., values at points or within on or more polygons. Use the following lines of code to \n",
    "\n",
    "1) Extract the minimum, maximum, mean, median, and standard deviation for the sampling points you defined earlier.\n",
    "2) "
   ]
  },
  {
   "cell_type": "code",
   "execution_count": null,
   "id": "5d3a1416-1f2f-4354-8d06-a916e97ca770",
   "metadata": {},
   "outputs": [],
   "source": [
    "# sampling a raster dataset at predefined points or extracting information inside a \n",
    "# load geojson\n",
    "sampling_points = gpd.read_file('./data/sampling_points.geojson')"
   ]
  },
  {
   "cell_type": "code",
   "execution_count": null,
   "id": "18230892-6320-4305-9473-7e33f016179f",
   "metadata": {},
   "outputs": [],
   "source": [
    "thickness_rio = thickness_lv95.to_rio_dataset()"
   ]
  },
  {
   "cell_type": "code",
   "execution_count": null,
   "id": "96599e4a-24c2-441b-9f17-9b489737c72c",
   "metadata": {},
   "outputs": [],
   "source": [
    "thickness_rio.nodata"
   ]
  },
  {
   "cell_type": "code",
   "execution_count": null,
   "id": "4cdbd613-9a14-40d1-9168-d257558aadca",
   "metadata": {},
   "outputs": [],
   "source": [
    "masked_data, masked_transform = mask(thickness_rio, outline.geometry, crop=True, nodata=thickness_rio.nodata)"
   ]
  },
  {
   "cell_type": "code",
   "execution_count": null,
   "id": "f6935691-9fdb-40cb-bae8-6b543048823d",
   "metadata": {},
   "outputs": [],
   "source": [
    "# Exclude NaN values from the masked array\n",
    "masked_data = np.ma.masked_equal(masked_data, thickness_rio.nodata)"
   ]
  },
  {
   "cell_type": "code",
   "execution_count": null,
   "id": "5704348b-f62b-4c83-ac3f-39dc86ce1f98",
   "metadata": {},
   "outputs": [],
   "source": [
    "stats = {\n",
    "    'min': masked_data.min(),\n",
    "    'max': masked_data.max(),\n",
    "    'mean': masked_data.mean(),\n",
    "    'median': np.ma.median(masked_data),\n",
    "    'std': masked_data.std()\n",
    "}\n",
    "\n",
    "print(\"Zonal Statistics:\")\n",
    "for key, value in stats.items():\n",
    "    print(f\"{key}: {value}\")"
   ]
  },
  {
   "cell_type": "code",
   "execution_count": null,
   "id": "40dc7891-c111-42e4-a62d-018efe435786",
   "metadata": {},
   "outputs": [],
   "source": [
    "# Can you calculate the volume of ice inside the outline?"
   ]
  },
  {
   "cell_type": "code",
   "execution_count": null,
   "id": "d365e50a-4be6-4580-922f-eb7073a503be",
   "metadata": {},
   "outputs": [],
   "source": [
    "# Create a list to store raster values at points\n",
    "raster_values_at_points = []\n",
    "\n",
    "# Sample raster at each point\n",
    "for index, point in sampling_points.iterrows():\n",
    "    # Convert point coordinates to pixel coordinates\n",
    "    pixel_coords = rasterio.transform.rowcol(thickness_rio.transform, point.geometry.x, point.geometry.y)\n",
    "\n",
    "    # Get raster value at the pixel coordinate\n",
    "    value = thickness_rio.read(1)[pixel_coords]\n",
    "\n",
    "    # Add value to the list\n",
    "    raster_values_at_points.append(value)\n",
    "\n",
    "# Add raster values to GeoDataFrame\n",
    "sampling_points['ice_thickness'] = raster_values_at_points\n",
    "\n",
    "print(sampling_points)"
   ]
  },
  {
   "cell_type": "markdown",
   "id": "86d98a40-e6a1-4f5c-bd6a-e7ca5e9d4d20",
   "metadata": {},
   "source": [
    "### Now we want to get stats for a series of polygons. Let's say we don't trust the individual point measurements, so we put a buffer around our initial points"
   ]
  },
  {
   "cell_type": "code",
   "execution_count": null,
   "id": "a60e31cd-d1b2-49f2-8098-7562372ddeb3",
   "metadata": {},
   "outputs": [],
   "source": [
    "sampling_points['buffered']= sampling_points.geometry.buffer(100)"
   ]
  },
  {
   "cell_type": "code",
   "execution_count": null,
   "id": "fe81fce7-eb5e-4e31-9c82-9e2c22cebaaf",
   "metadata": {},
   "outputs": [],
   "source": [
    "buffered_points = sampling_points.copy()\n",
    "buffered_points = buffered_points.drop(['geometry','ice_thickness'], axis=1)"
   ]
  },
  {
   "cell_type": "code",
   "execution_count": null,
   "id": "81caf3ca-a207-4d20-8ebd-fa9037524860",
   "metadata": {},
   "outputs": [],
   "source": [
    "buffered_points"
   ]
  },
  {
   "cell_type": "code",
   "execution_count": null,
   "id": "0e9f48d3-12e2-4c97-a20a-07ce5603087b",
   "metadata": {},
   "outputs": [],
   "source": [
    "buffered_points = buffered_points.set_geometry('buffered')"
   ]
  },
  {
   "cell_type": "code",
   "execution_count": null,
   "id": "a9d6d218-bc1c-4626-b44f-aa341a6dd855",
   "metadata": {},
   "outputs": [],
   "source": [
    "raster_stats_for_polygons = []\n",
    "\n",
    "for index, row in sampling_points.iterrows():\n",
    "    # Access the geometry of the current row\n",
    "    #polygon = sampling_points.geometry[i]\n",
    "    \n",
    "    masked_data, masked_transform = mask(thickness_rio, [row.buffered], crop=True, nodata=thickness_rio.nodata)\n",
    "    \n",
    "    # Exclude nodata values from the masked array\n",
    "    masked_data = np.ma.masked_equal(masked_data, thickness_rio.nodata)\n",
    "    \n",
    "    # Calculate statistics of the masked array\n",
    "    stats = {\n",
    "        'min': masked_data.min(),\n",
    "        'max': masked_data.max(),\n",
    "        'mean': masked_data.mean(),\n",
    "        'median': np.ma.median(masked_data),\n",
    "        'std': masked_data.std()\n",
    "    }\n",
    "    \n",
    "    # Add statistics to the list\n",
    "    raster_stats_for_polygons.append(stats)\n",
    "\n",
    "# Add raster statistics to GeoDataFrame\n",
    "buffered_points = buffered_points.assign(**{key: [stat[key] for stat in raster_stats_for_polygons] for key in raster_stats_for_polygons[0].keys()})\n",
    "\n",
    "print(buffered_points)"
   ]
  },
  {
   "cell_type": "markdown",
   "id": "2b678e69-a345-4c38-9307-b7f9442845df",
   "metadata": {},
   "source": [
    "### 4. Writing raster data"
   ]
  },
  {
   "cell_type": "code",
   "execution_count": null,
   "id": "3e97aebf-d56c-4f47-92ed-cf3c87eee05e",
   "metadata": {},
   "outputs": [],
   "source": [
    "# Let's load some old that that we previously created"
   ]
  },
  {
   "cell_type": "code",
   "execution_count": null,
   "id": "3aaf578f-e117-44c7-a752-7e2419657895",
   "metadata": {},
   "outputs": [],
   "source": [
    "points_inside = gpd.read_file('data/glathida_inside_sgi.geojson')"
   ]
  },
  {
   "cell_type": "code",
   "execution_count": null,
   "id": "7d836795-be01-4462-b6c2-2d4b038815c1",
   "metadata": {},
   "outputs": [],
   "source": [
    "# Extract the bounds of the polygon\n",
    "minx, miny, maxx, maxy = outline.total_bounds\n",
    "# Create an empty grid for interpolation\n",
    "grid_x, grid_y = np.mgrid[minx:maxx:100j, miny:maxy:100j]  # 100j for a 100x100 grid"
   ]
  },
  {
   "cell_type": "code",
   "execution_count": null,
   "id": "f70a28fc-4001-4ba0-8afd-ed68aa96ac5a",
   "metadata": {},
   "outputs": [],
   "source": [
    "points = np.array(list(zip(points_inside.geometry.x, points_inside.geometry.y)))\n",
    "values = points_inside['THICKNESS'].values"
   ]
  },
  {
   "cell_type": "code",
   "execution_count": null,
   "id": "7774d9c7-0e8d-4348-b48f-f47f1485772e",
   "metadata": {},
   "outputs": [],
   "source": [
    "grid_z = griddata(points, values, (grid_x, grid_y), method='linear') #try also cubic. Which one looks better?"
   ]
  },
  {
   "cell_type": "code",
   "execution_count": null,
   "id": "59ce8b54-b6be-4f3f-9c28-38b23ed27dbf",
   "metadata": {},
   "outputs": [],
   "source": [
    "f, ax = plt.subplots()\n",
    "#using imshow\n",
    "ax.imshow(grid_z.T, origin='lower', extent=[grid_x.min(), grid_x.max(), grid_y.min(), grid_y.max()], aspect='auto', cmap='Blues')\n",
    "#using contour\n",
    "#ax.contourf(grid_x, grid_y, grid_z, cmap='Blues')\n",
    "\n",
    "#add points from measurements\n",
    "d = plt.scatter(\n",
    "    points_inside.geometry.x,  # x-coordinates of points\n",
    "    points_inside.geometry.y,  # y-coordinates of points\n",
    "    c=points_inside['THICKNESS'],  # values to use for coloring\n",
    "    cmap='Blues',  # colormap\n",
    "    s=75,  # size of markers\n",
    "    edgecolor='none',  # edge color of markers\n",
    "    alpha=1  # transparency\n",
    ")\n",
    "outline.plot(ax=ax, facecolor='None')"
   ]
  },
  {
   "cell_type": "code",
   "execution_count": null,
   "id": "b5faac9e-6bfc-4bce-bce8-ad12845e79c4",
   "metadata": {},
   "outputs": [],
   "source": [
    "# Now let's save this dataset as a raster\n",
    "x, y = np.meshgrid(grid_x, grid_y)"
   ]
  },
  {
   "cell_type": "code",
   "execution_count": null,
   "id": "e5011aff-5fa8-4344-b80b-459198169f9c",
   "metadata": {},
   "outputs": [],
   "source": [
    "#transform = from_origin(x.min(), y.max(), (x.max()-x.min())/grid_x.shape[1], (y.min()-y.max())/grid_z.shape[0])\n",
    "pixel_width = (x.max()-x.min())/grid_x.shape[1]\n",
    "pixel_height = (y.max()-y.min())/grid_z.shape[0]\n",
    "transform = Affine.translation(x.min(), y.max()) * Affine.scale(pixel_width, -pixel_height)"
   ]
  },
  {
   "cell_type": "code",
   "execution_count": null,
   "id": "0fe9b941-8d0a-4d64-a2ca-63362bc66af9",
   "metadata": {},
   "outputs": [],
   "source": [
    "transform"
   ]
  },
  {
   "cell_type": "code",
   "execution_count": null,
   "id": "d8f73a09-dfa0-4ffe-8be5-17218532a0b6",
   "metadata": {},
   "outputs": [],
   "source": []
  },
  {
   "cell_type": "code",
   "execution_count": null,
   "id": "9e55d84a-4b3a-43db-b22b-f09d646f264a",
   "metadata": {},
   "outputs": [],
   "source": [
    "metadata = {\n",
    "    'driver': 'GTiff',\n",
    "    'dtype': 'float32',\n",
    "    'nodata': -9999,\n",
    "    'width': grid_z.shape[1],\n",
    "    'height': grid_z.shape[0],\n",
    "    'count': 1,\n",
    "    'crs': 'EPSG:2056',  # Example EPSG code, replace with appropriate CRS\n",
    "    'transform': transform\n",
    "}"
   ]
  },
  {
   "cell_type": "code",
   "execution_count": null,
   "id": "f4a71c2c-03f5-4272-be19-2b9a469a2099",
   "metadata": {},
   "outputs": [],
   "source": [
    "with rasterio.open('data/glathida_interpolated.tif', 'w', **metadata) as dst:\n",
    "    dst.write(np.fliplr(grid_z).astype('float64'), 1)\n"
   ]
  },
  {
   "cell_type": "code",
   "execution_count": null,
   "id": "7e9474c7-a606-4a4e-9f58-aa3ed490e6c9",
   "metadata": {},
   "outputs": [],
   "source": [
    "thickness_interpolated = xdem.DEM('data/glathida_interpolated.tif')"
   ]
  },
  {
   "cell_type": "code",
   "execution_count": null,
   "id": "80c05680-a7d1-423d-9e77-23810a568828",
   "metadata": {},
   "outputs": [],
   "source": [
    "thickness_diff = thickness_lv95-thickness_interpolated.reproject(thickness_lv95)"
   ]
  },
  {
   "cell_type": "code",
   "execution_count": null,
   "id": "ac1152f2-3c9b-4b61-8905-7c95f58b63c9",
   "metadata": {},
   "outputs": [],
   "source": [
    "f, ax = plt.subplots()\n",
    "#thickness_interpolated.plot(ax=ax, zorder=5, alpha=0.8)\n",
    "#thickness_lv95.plot(ax=ax, zorder=0, alpha=1)\n",
    "thickness_diff.plot(ax=ax)"
   ]
  },
  {
   "cell_type": "code",
   "execution_count": null,
   "id": "fd4418ae-9619-483c-ae3c-1bc6030055f4",
   "metadata": {},
   "outputs": [],
   "source": [
    "thickness_diff"
   ]
  },
  {
   "cell_type": "code",
   "execution_count": null,
   "id": "c1fe77a0-46b0-4067-8b8f-4a8b46cd25ff",
   "metadata": {},
   "outputs": [],
   "source": []
  }
 ],
 "metadata": {
  "kernelspec": {
   "display_name": "Python 3 (ipykernel)",
   "language": "python",
   "name": "python3"
  },
  "language_info": {
   "codemirror_mode": {
    "name": "ipython",
    "version": 3
   },
   "file_extension": ".py",
   "mimetype": "text/x-python",
   "name": "python",
   "nbconvert_exporter": "python",
   "pygments_lexer": "ipython3",
   "version": "3.11.9"
  }
 },
 "nbformat": 4,
 "nbformat_minor": 5
}
