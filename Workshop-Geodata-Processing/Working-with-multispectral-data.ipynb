{
 "cells": [
  {
   "cell_type": "code",
   "execution_count": null,
   "id": "24af3890-0f7a-435c-ad5e-2b71f2ddbd9b",
   "metadata": {},
   "outputs": [],
   "source": [
    "from osgeo import gdal"
   ]
  },
  {
   "cell_type": "code",
   "execution_count": null,
   "id": "f4e02983-cf80-470b-abae-f46b02821825",
   "metadata": {},
   "outputs": [],
   "source": [
    "img = gdal.Open('planet/composite.tif')\n",
    "r = img.GetRasterBand(1).ReadAsArray()\n",
    "g = img.GetRasterBand(2).ReadAsArray()\n",
    "b = img.GetRasterBand(3).ReadAsArray()\n",
    "nir = img.GetRasterBand(4).ReadAsArray()"
   ]
  },
  {
   "cell_type": "code",
   "execution_count": null,
   "id": "ec53ce75-5aa9-4f3d-b3b9-0d692bc35704",
   "metadata": {},
   "outputs": [],
   "source": [
    "img.GetProjection()"
   ]
  },
  {
   "cell_type": "code",
   "execution_count": null,
   "id": "216d9fd4-4e02-4655-bb42-e54925d5d3eb",
   "metadata": {},
   "outputs": [],
   "source": [
    "img.GetGeoTransform() #upper left corner"
   ]
  },
  {
   "cell_type": "code",
   "execution_count": null,
   "id": "97f2217e-55af-4e02-8c19-b62469f3b2a1",
   "metadata": {},
   "outputs": [],
   "source": [
    "img.RasterYSize"
   ]
  },
  {
   "cell_type": "code",
   "execution_count": null,
   "id": "b4a68b26-414f-46e9-8da5-c1e0e34dae3c",
   "metadata": {},
   "outputs": [],
   "source": [
    "f, ax = plt.subplots(figsize=(8,8))\n",
    "cax = ax.imshow(r, cmap='Greys_r')\n",
    "plt.show()"
   ]
  },
  {
   "cell_type": "code",
   "execution_count": null,
   "id": "7021e5e7-4457-4a5b-92f3-115966e23ad9",
   "metadata": {},
   "outputs": [],
   "source": [
    "def get_extent(img):\n",
    "    return (img.GetGeoTransform()[0],\n",
    "            img.GetGeoTransform()[3]+img.GetGeoTransform()[5]*img.RasterYSize,\n",
    "            img.GetGeoTransform()[0]+img.GetGeoTransform()[1]*img.RasterXSize,\n",
    "            img.GetGeoTransform()[3]) # left, bottom, right, top"
   ]
  },
  {
   "cell_type": "code",
   "execution_count": null,
   "id": "2ba02b7f-5c32-4605-85de-3ccfdce63adf",
   "metadata": {},
   "outputs": [],
   "source": [
    "img_extent = get_extent(img)"
   ]
  },
  {
   "cell_type": "code",
   "execution_count": null,
   "id": "6aa28ec1-d10d-4270-b4f6-21fea6875894",
   "metadata": {},
   "outputs": [],
   "source": [
    "rgb = np.dstack((r,g,b)) # depth-wise stacking\n",
    "f, ax = plt.subplots(figsize=(8,8))\n",
    "cax = ax.imshow(rgb)\n",
    "plt.show()"
   ]
  },
  {
   "cell_type": "code",
   "execution_count": null,
   "id": "92188165-3a57-4d61-b9b1-a71306a49572",
   "metadata": {},
   "outputs": [],
   "source": [
    "# inspect histogram\n",
    "plt.hist(r.flatten(), bins=100)\n",
    "plt.show()"
   ]
  },
  {
   "cell_type": "code",
   "execution_count": null,
   "id": "33ab7131-db8a-460d-897e-ce343970009f",
   "metadata": {},
   "outputs": [],
   "source": [
    "def ScaleMinMax(x):\n",
    "    return (x-np.nanmin(x))/(np.nanmax(x)-np.nanmin(x))"
   ]
  },
  {
   "cell_type": "code",
   "execution_count": null,
   "id": "98099708-a0b6-4312-a4ed-26e2e8ff5dd1",
   "metadata": {},
   "outputs": [],
   "source": [
    "def ScaleCCC(x):\n",
    "    return ((x-np.nanpercentile(x, 2))/(np.nanpercentile(x, 98)-np.nanpercentile(x,2)))"
   ]
  },
  {
   "cell_type": "code",
   "execution_count": null,
   "id": "6abb346a-9d87-4957-bb82-88444bed9320",
   "metadata": {},
   "outputs": [],
   "source": [
    "rgb = np.dstack((r,g,b)) # depth-wise stacking\n",
    "f, ax = plt.subplots(figsize=(8,8))\n",
    "cax = ax.imshow(rgb, extent=get_extent(reprojected))\n",
    "plt.show()"
   ]
  },
  {
   "cell_type": "code",
   "execution_count": null,
   "id": "001ed360-3917-43a8-8908-dd6d8f5ef681",
   "metadata": {},
   "outputs": [],
   "source": [
    "# Reproject to EPSG 2056\n",
    "from osgeo import gdalconst\n",
    "options = gdal.WarpOptions(\n",
    "        xRes=2,\n",
    "        yRes=2,\n",
    "        errorThreshold=0.01,\n",
    "        resampleAlg=gdalconst.GRA_Bilinear,\n",
    "        dstSRS='EPSG:2056',\n",
    "        format='VRT'\n",
    ")\n",
    "    \n",
    "reprojected = gdal.Warp('',\n",
    "        gdal.Open('planet/composite.tif'),\n",
    "        options=options)\n"
   ]
  },
  {
   "cell_type": "code",
   "execution_count": null,
   "id": "d47cb80f-900a-417e-968d-0bbd1808f2e1",
   "metadata": {},
   "outputs": [],
   "source": [
    "get_extent(reprojected)"
   ]
  },
  {
   "cell_type": "code",
   "execution_count": null,
   "id": "60162dac-c546-414a-b8e2-fe3f4df18956",
   "metadata": {},
   "outputs": [],
   "source": []
  }
 ],
 "metadata": {
  "kernelspec": {
   "display_name": "Python 3 (ipykernel)",
   "language": "python",
   "name": "python3"
  },
  "language_info": {
   "codemirror_mode": {
    "name": "ipython",
    "version": 3
   },
   "file_extension": ".py",
   "mimetype": "text/x-python",
   "name": "python",
   "nbconvert_exporter": "python",
   "pygments_lexer": "ipython3",
   "version": "3.12.3"
  }
 },
 "nbformat": 4,
 "nbformat_minor": 5
}
