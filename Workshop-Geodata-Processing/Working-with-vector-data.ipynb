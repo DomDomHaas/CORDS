{
 "cells": [
  {
   "cell_type": "code",
   "execution_count": 6,
   "id": "2e9a9a22-bb93-40be-a7f6-624bda719b5c",
   "metadata": {},
   "outputs": [],
   "source": [
    "import numpy as np\n",
    "import pandas as pd\n",
    "import geopandas as gpd\n",
    "from shapely.geometry import Point, Polygon, box\n",
    "from scipy.interpolate import griddata\n",
    "import matplotlib.pyplot as plt\n",
    "from matplotlib.ticker import FuncFormatter"
   ]
  },
  {
   "cell_type": "code",
   "execution_count": 2,
   "id": "0447a229-6608-4ed4-ab9a-f7bdb386930f",
   "metadata": {},
   "outputs": [],
   "source": [
    "# load the Swiss Glacier Inventory 2016\n",
    "sgi = gpd.read_file('data/sgi_2016/SGI_2016_glaciers.shp')"
   ]
  },
  {
   "cell_type": "markdown",
   "id": "e7a725d4-a076-40f6-8b85-f2cab15ad797",
   "metadata": {},
   "source": [
    "### 1. Investigate the dataset and answer the following questions\n",
    "1) What datatype did you just load?\n",
    "2) How many glaciers are contained in the dataset?\n",
    "3) How many attributes does the dataset have and which ones?\n",
    "4) What are the datatypes of the individual columns?\n",
    "5) Which is the largest glacier, which one is the smallest glacier?\n",
    "6) How many glaciers have a name?\n",
    "\n",
    "Try using the attributes & functions gdf.shape, gdf.columns, gdf.dtypes, gdf.idxmin() and others to do this. Replace the three dots with the right commands. "
   ]
  },
  {
   "cell_type": "code",
   "execution_count": null,
   "id": "27ec69fc-b0bc-4332-8118-2b011e6aea9e",
   "metadata": {},
   "outputs": [],
   "source": [
    "sgi.head()"
   ]
  },
  {
   "cell_type": "code",
   "execution_count": null,
   "id": "50a4a372-5e93-41eb-9988-48ac4b8c0135",
   "metadata": {},
   "outputs": [],
   "source": [
    "# what datatype is the data you just loaded?\n",
    "type(...)"
   ]
  },
  {
   "cell_type": "code",
   "execution_count": null,
   "id": "f21b8198-d659-4c55-8845-cf286586d57a",
   "metadata": {},
   "outputs": [],
   "source": [
    "# how many rows and colums does it have?\n",
    "sgi. ... #number of (rows, colums)"
   ]
  },
  {
   "cell_type": "code",
   "execution_count": null,
   "id": "c3267b63-463f-4f1f-8cee-7dbbee43567e",
   "metadata": {},
   "outputs": [],
   "source": [
    "# what attributes does it have?\n",
    "sgi. ..."
   ]
  },
  {
   "cell_type": "code",
   "execution_count": 4,
   "id": "0465e9f2-21c9-46e8-8a9d-a7841a47b92e",
   "metadata": {},
   "outputs": [
    {
     "data": {
      "text/plain": [
       "gid            float64\n",
       "pk_glacier      object\n",
       "sgi-id          object\n",
       "name            object\n",
       "rl_0            object\n",
       "rl_1             int64\n",
       "rl_2             int64\n",
       "rl_3            object\n",
       "i_code          object\n",
       "year_acq         int64\n",
       "year_rel         int64\n",
       "area_km2       float64\n",
       "length_km      float64\n",
       "masl_min         int64\n",
       "masl_med         int64\n",
       "masl_mean        int64\n",
       "masl_max         int64\n",
       "slope_deg      float64\n",
       "aspect_deg       int64\n",
       "geometry      geometry\n",
       "dtype: object"
      ]
     },
     "execution_count": 4,
     "metadata": {},
     "output_type": "execute_result"
    }
   ],
   "source": [
    "# What are the datatypes of the different attributes?\n",
    "sgi. ... #datatypes"
   ]
  },
  {
   "cell_type": "code",
   "execution_count": null,
   "id": "94530eb0-63ef-4a3e-a40f-7627ae710d4c",
   "metadata": {},
   "outputs": [],
   "source": [
    "# How is the geometry stored as a whole?\n",
    "type(sgi. ...)"
   ]
  },
  {
   "cell_type": "code",
   "execution_count": null,
   "id": "3136faaa-7ad0-4a66-9ec5-8a84e19b88c1",
   "metadata": {},
   "outputs": [],
   "source": [
    "# What do these geometries look like, and what datatype are they?\n",
    "# How is the geometry stored as a whole?\n",
    "print(...)\n",
    "print(type(...[0]))"
   ]
  },
  {
   "cell_type": "code",
   "execution_count": null,
   "id": "c59496a3-c87a-47fa-b07f-726373aea47f",
   "metadata": {},
   "outputs": [],
   "source": [
    "# Which glacier is largest, which one smallest?\n",
    "max_area_id = sgi[...].idxmin()\n",
    "sgi.loc[max_area_id]"
   ]
  },
  {
   "cell_type": "code",
   "execution_count": null,
   "id": "8059daeb-76ec-49f1-81be-a2669e0632b1",
   "metadata": {},
   "outputs": [],
   "source": [
    "# How many glaciers don't have a name? \n",
    "sgi[...].isnull().sum() \n",
    "# How would you set up your query to find the number of glaciers that do have a name?\n"
   ]
  },
  {
   "cell_type": "markdown",
   "id": "772af22a-0165-4dfc-ad04-9a157ce291bf",
   "metadata": {},
   "source": [
    "### 2. Let's look at the spatial part in a bit more detail\n",
    "\n",
    "Select one glacier and investigate it's geometry in more detail answering the following questions:\n",
    "\n",
    "1) What datatype does the geometry have / how is it stored?\n",
    "2) Explore the geometry's attributes length, area, centroid and bounds. What can you learn?\n",
    "3) What coordinate reference system is the dataset in?\n",
    "4) What happens if you query length, area etc. on the whole SGI?"
   ]
  },
  {
   "cell_type": "code",
   "execution_count": null,
   "id": "716d95d9-ad82-4a56-b19b-c661f2c8bf1d",
   "metadata": {},
   "outputs": [],
   "source": [
    "# Make a new variable that contains the geometry of only one glacier of your choice. \n",
    "myglacier = sgi[sgi[...]==...] # use name or sgi-id to select a glacier "
   ]
  },
  {
   "cell_type": "code",
   "execution_count": null,
   "id": "4c744004-963c-47a7-a25f-088dd03ba55e",
   "metadata": {},
   "outputs": [],
   "source": [
    "myglacier.length #How is this length different from the length stored in the sgi dataset?"
   ]
  },
  {
   "cell_type": "code",
   "execution_count": null,
   "id": "00974a25-0607-4b64-a245-084768afbf89",
   "metadata": {},
   "outputs": [],
   "source": [
    "myglacier. ... #What is the coordinate reference system (crs)?"
   ]
  },
  {
   "cell_type": "code",
   "execution_count": null,
   "id": "addfefd3-2515-4743-87ff-69199c383f1f",
   "metadata": {},
   "outputs": [],
   "source": [
    "sgi. ... # Query (e.g., the centroid) of the whole sgi. What do you get?"
   ]
  },
  {
   "cell_type": "markdown",
   "id": "03c7c208-389f-4c63-b8dd-dbc1a1063145",
   "metadata": {},
   "source": [
    "### 3. Plotting\n",
    "\n",
    "1) Use sgi.plot() to plot the Swiss Glacier Inventory. Ok, nice, but not particularly useful (yet). \n",
    "2) Zoom in (set x and y limits) on the area around Silvretta glacier.\n",
    "3) Find the right bounds for the chloropleth map that shows a good category for the different glacier areas."
   ]
  },
  {
   "cell_type": "code",
   "execution_count": null,
   "id": "335644a2-1045-4fd5-95e4-9e5a23a76f9e",
   "metadata": {},
   "outputs": [],
   "source": [
    "# Function to format tick marks in km rather than m\n",
    "def meters_to_kilometers(x, pos):\n",
    "    \"\"\"Convert meters to kilometers.\"\"\"\n",
    "    return f'{x / 1e3:.0f}'"
   ]
  },
  {
   "cell_type": "code",
   "execution_count": 4,
   "id": "7fd32e52-e147-447f-ba32-29060a86db1b",
   "metadata": {},
   "outputs": [
    {
     "data": {
      "text/plain": [
       "<Axes: >"
      ]
     },
     "execution_count": 4,
     "metadata": {},
     "output_type": "execute_result"
    },
    {
     "data": {
      "image/png": "[encoded data removed]",
      "text/plain": [
       "<Figure size 640x480 with 1 Axes>"
      ]
     },
     "metadata": {},
     "output_type": "display_data"
    }
   ],
   "source": [
    "sgi.plot()"
   ]
  },
  {
   "cell_type": "code",
   "execution_count": 3,
   "id": "1ac0bc3d-eb96-44a3-847b-a7e4baf7e970",
   "metadata": {},
   "outputs": [
    {
     "data": {
      "text/plain": [
       "Text(0.5, 1.0, 'Silvretta-region glacier areas')"
      ]
     },
     "execution_count": 3,
     "metadata": {},
     "output_type": "execute_result"
    },
    {
     "data": {
      "image/png": "[encoded data removed]",
      "text/plain": [
       "<Figure size 800x800 with 2 Axes>"
      ]
     },
     "metadata": {},
     "output_type": "display_data"
    }
   ],
   "source": [
    "fig, ax = plt.subplots(figsize=(8,8))\n",
    "sgi.plot(ax=ax, \n",
    "         column='area_km2', \n",
    "         #vmin=..., \n",
    "         #vmax=..., \n",
    "         legend=True,\n",
    "         legend_kwds={\"label\": \"Glacier size\", \"orientation\": \"horizontal\"})\n",
    "# Create custom formatters for the x and y axis\n",
    "x_formatter = FuncFormatter(meters_to_kilometers)\n",
    "y_formatter = FuncFormatter(meters_to_kilometers)\n",
    "\n",
    "# Apply the formatters to the axes for pretty labels\n",
    "ax.xaxis.set_major_formatter(x_formatter)\n",
    "ax.yaxis.set_major_formatter(y_formatter)\n",
    "\n",
    "#ax.set_xlim([..., ...])\n",
    "#ax.set_ylim([..., ...])\n",
    "ax.set_title('Silvretta-region glacier areas', fontsize=15)"
   ]
  },
  {
   "cell_type": "markdown",
   "id": "1edc54e7-ef70-4c31-b82c-cbd25d306392",
   "metadata": {},
   "source": [
    "When you like your result, save it as a pdf. PDF is a useful format because it can be imported into vector editing programs (Adobe Illustrator, Affinity Designer, Inkscape...) for final editing. \n"
   ]
  },
  {
   "cell_type": "code",
   "execution_count": 5,
   "id": "59533367-d74b-40ea-ba87-4209f5d64106",
   "metadata": {},
   "outputs": [],
   "source": [
    "#fig.savefig('Silvretta_glaciers.pdf')"
   ]
  },
  {
   "cell_type": "markdown",
   "id": "c6ad02a2-6453-48bd-bce3-dcc6631166ab",
   "metadata": {},
   "source": [
    "### 4. Filtering spatially\n",
    "\n",
    "1) Find all glaciers withing the Silvretta region (use the bounding box you defined above)\n",
    "2) Find all glaciers that are in "
   ]
  },
  {
   "cell_type": "code",
   "execution_count": null,
   "id": "f5a23861-ecb1-4285-8e70-76411be3ed55",
   "metadata": {},
   "outputs": [],
   "source": [
    "# Example bounding box coordinates (use the ones you defined above)\n",
    "minx, miny, maxx, maxy = [..., ..., ..., ...]  # Replace with your bounding box coordinates"
   ]
  },
  {
   "cell_type": "code",
   "execution_count": null,
   "id": "99c43438-f37d-4f44-a837-f93a243d3d27",
   "metadata": {},
   "outputs": [],
   "source": [
    "# Create a bounding box\n",
    "silvretta_region = box(minx, miny, maxx, maxy)"
   ]
  },
  {
   "cell_type": "code",
   "execution_count": null,
   "id": "46bb2753-4f66-41b9-870c-a56b8787db43",
   "metadata": {},
   "outputs": [],
   "source": [
    "silvretta_glaciers = sgi[sgi.geometry.within(silvretta_region)]"
   ]
  },
  {
   "cell_type": "code",
   "execution_count": null,
   "id": "c49ef4fc-fa38-43f1-9d89-28c2406986a6",
   "metadata": {},
   "outputs": [],
   "source": [
    "# Find all glaciers that are in southern Switzerland (e.g., below y<1 130 000)\n",
    "southern = sgi.cx[ : , : ...].plot() "
   ]
  },
  {
   "cell_type": "code",
   "execution_count": null,
   "id": "0790ba29-a526-4594-9580-4113b1424c97",
   "metadata": {},
   "outputs": [],
   "source": [
    "# Now adapt this for eastern, western or northern Switzerland\n",
    "... = sgi.cx[ : , : ].plot() "
   ]
  },
  {
   "cell_type": "markdown",
   "id": "7883b08a-bd01-4f3d-b73e-46408956b67a",
   "metadata": {},
   "source": [
    "### 5. Some typical geometric operations\n",
    "\n",
    "Geopandas offers functionality for typical geometric operations such as smoothing or buffering. Check the documentation to see what arguments [geopandas.GeoSeries.simplify](https://geopandas.org/en/stable/docs/reference/api/geopandas.GeoSeries.simplify.html) and\n",
    "[geopandas.GeoSeries.buffer()](https://geopandas.org/en/stable/docs/reference/api/geopandas.GeoSeries.buffer.html) take.\n",
    "\n",
    "Create \n",
    "1) a simplified version of your glacier outline and plot both the original and smoothed version\n",
    "2) create a buffer around your glacier and plot both the buffered and the original outlines"
   ]
  },
  {
   "cell_type": "code",
   "execution_count": null,
   "id": "9e4b276d-3ebf-4583-8d05-6db6143f1ca2",
   "metadata": {},
   "outputs": [],
   "source": [
    "# smooth\n",
    "silvretta_smoothed = sgi[sgi.name=='Silvrettagletscher'].geometry.simplify(...)"
   ]
  },
  {
   "cell_type": "code",
   "execution_count": null,
   "id": "9ee4fa30-5321-4554-8fc7-4d7e0542e58f",
   "metadata": {},
   "outputs": [],
   "source": [
    "f, ax = plt.subplots()\n",
    "silvretta_smoothed.plot(ax=ax, facecolor='none', edgecolor='k')\n",
    "sgi[sgi.name=='Silvrettagletscher'].geometry.plot(ax=ax, facecolor='none', edgecolor='red')"
   ]
  },
  {
   "cell_type": "code",
   "execution_count": null,
   "id": "f494bdc6-4a1a-4dc5-a340-8f5c438fcf55",
   "metadata": {},
   "outputs": [],
   "source": [
    "# buffer\n",
    "silvretta_buffered = sgi[sgi.name=='Silvrettagletscher'].geometry.buffer(...)"
   ]
  },
  {
   "cell_type": "code",
   "execution_count": null,
   "id": "696fb937-fb56-45e1-8ef5-4b8625b18140",
   "metadata": {},
   "outputs": [],
   "source": [
    "f, ax = plt.subplots()\n",
    "silvretta_buffered.plot(ax=ax, facecolor='none', edgecolor='k')\n",
    "sgi[sgi.name=='Silvrettagletscher'].geometry.plot(ax=ax, facecolor='none', edgecolor='red')"
   ]
  },
  {
   "cell_type": "markdown",
   "id": "19457622-db6e-47c1-8b66-24693d35cfcf",
   "metadata": {},
   "source": [
    "### 6. Reading and writing spatial data with pandas and geopandas\n",
    "\n",
    "We want to be able to query our spatial datasets at defined locations! \n",
    "Create and save a shape file that contains three sampling points within Silvretta glacier by follwoing these steps:\n",
    "1) define points\n",
    "2) turn the points into a python dictionary and use the shapely Point() function to turn your points into shaply geometry objects.\n",
    "3) turn your dictionary into a Pandas GeoDataFrame\n",
    "4) save the gdf to file using \"GeoJSON\" as the driver.\n",
    "5) inspect the file you just saved in using a text editor. What advantages do you see in comparison to the traditional .shp files?\n",
    "6) Let's also save the outline of Silvretta glacier.\n",
    "7) Want to sample randomly? Investigate the function geopandas.GeoSeries.sample_points()"
   ]
  },
  {
   "cell_type": "code",
   "execution_count": null,
   "id": "7d0112f3-c1c3-4e90-862e-fd0c16682931",
   "metadata": {},
   "outputs": [],
   "source": [
    "# create geojson file with points of interest for sampling\n",
    "point1 = ..., ...\n",
    "point2 = ..., ...\n",
    "point3 = ..., ..."
   ]
  },
  {
   "cell_type": "code",
   "execution_count": null,
   "id": "041f47f7-026b-4bcc-8c48-7ee449f68704",
   "metadata": {},
   "outputs": [],
   "source": [
    "# turn points into dictionary\n",
    "sps = {'Points': ['Point1', 'Point2', 'Point3'], 'geometry': [Point(point1), Point(point2), Point(point3)]}\n",
    "# turn dictionary into GeoDataFrame\n",
    "sampling_points = gpd.GeoDataFrame(sps, crs=...)"
   ]
  },
  {
   "cell_type": "code",
   "execution_count": null,
   "id": "c24b2367-8d9d-47ca-81b6-eb012d37fc1d",
   "metadata": {},
   "outputs": [],
   "source": [
    "# Now let's write this to a geojson\n",
    "sampling_points.to_file('./data/sampling_points.geojson', driver='GeoJSON')"
   ]
  },
  {
   "cell_type": "code",
   "execution_count": null,
   "id": "9e436202-cb2e-4fbf-9c03-0c0c408cd922",
   "metadata": {},
   "outputs": [],
   "source": [
    "# Let's also save our outline for re-use in further exercises\n",
    "silv_outline = sgi[sgi.name=='Silvrettagletscher']\n",
    "silv_outline.geometry.to_file('./data/silvretta_outline.geojson', driver='GeoJSON')"
   ]
  },
  {
   "cell_type": "code",
   "execution_count": null,
   "id": "1e86075b-e546-4500-8143-d2b3adbc03cb",
   "metadata": {},
   "outputs": [],
   "source": [
    "# What if you wanted to sample a random set of points within your outline?\n",
    "rand_points = silv_outline.sample_points(...)\n",
    "rand_points.plot()"
   ]
  },
  {
   "cell_type": "markdown",
   "id": "b87220e2-0a00-4d07-a4b9-a517571ed35d",
   "metadata": {},
   "source": [
    "### 7. Let's add some spatial data that is available in tabular form\n",
    "\n",
    "Load the Glacier Ice Thickness database (glathida) and inspect the dataset.\n",
    "\n",
    "1) What attributes does it have?\n",
    "2) What spatial coordinate system do you think this is in? Does the dataset know this already?\n",
    "3) Go ahead and extract all the ice thickness measurements for Silvrettaglacier into its own variable.\n",
    "4) Turn the dataframe into a spatially-aware GeoDataFrame that allows you to perform spatial operations and reproject it into the Swiss Coordinate System CH1903+ / LV95 "
   ]
  },
  {
   "cell_type": "code",
   "execution_count": null,
   "id": "5632ab16-42ff-44c4-b5e0-cb26a711a617",
   "metadata": {},
   "outputs": [],
   "source": [
    "# Load ice thickness measurements\n",
    "glathida = pd.read_csv('data/glathida-3.1.0/data/TTT.csv', low_memory=False)"
   ]
  },
  {
   "cell_type": "code",
   "execution_count": null,
   "id": "3a1aee2f-36df-4299-ae1b-52883aee9aa5",
   "metadata": {},
   "outputs": [],
   "source": [
    "#Inspect the dataset"
   ]
  },
  {
   "cell_type": "code",
   "execution_count": null,
   "id": "ff3e6c18-006b-4c5e-811f-d84b8bacd185",
   "metadata": {},
   "outputs": [],
   "source": [
    "# Extract the data for Silvretta glacier\n",
    "silvretta = glathida[glathida.GLACIER_NAME=='SILVRETTA']"
   ]
  },
  {
   "cell_type": "code",
   "execution_count": null,
   "id": "e398a80a-10de-4cd1-8523-540f7ed16260",
   "metadata": {},
   "outputs": [],
   "source": [
    "# make into geopandas dataframe\n",
    "geometry = [Point(xy) for xy in zip(silvretta[...], silvretta[...])] #list-comprehension & zip() iterator on tuples of coordinates\n",
    "silvretta_gdf = gpd.GeoDataFrame(silvretta, geometry=geometry)"
   ]
  },
  {
   "cell_type": "code",
   "execution_count": null,
   "id": "f4f8bc7e-a32d-462f-97dd-35257b05f5c6",
   "metadata": {},
   "outputs": [],
   "source": [
    "# explore the crs\n",
    "print(\"Current CRS:\", silvretta_gdf.crs)"
   ]
  },
  {
   "cell_type": "code",
   "execution_count": null,
   "id": "ac0aac02-496c-4624-8ea3-feaa65711af3",
   "metadata": {},
   "outputs": [],
   "source": [
    "silvretta_gdf = silvretta_gdf.set_crs(epsg=..., inplace=True)"
   ]
  },
  {
   "cell_type": "code",
   "execution_count": null,
   "id": "431d0acd-28b1-4e94-b0a3-161f89d035a8",
   "metadata": {},
   "outputs": [],
   "source": [
    "# reproject to Swiss Coordinate System LV95\n",
    "silvretta_lv95 = silvretta_gdf.to_crs(epsg=...)"
   ]
  },
  {
   "cell_type": "markdown",
   "id": "931bd557-93ec-4f40-a3f5-f2519a10a4d1",
   "metadata": {},
   "source": [
    "### 8. Spatial operations operations with point data\n",
    "\n",
    "We now have two spatial datasets from the same area (glacier outlines and ice thickness measurements). Let's explore how the two can be used together. \n",
    "\n",
    "1) Create a new variable that cointains all the ice thickness points that are inside our glacier outline using [gpd.sjoin()](https://geopandas.org/en/stable/docs/reference/api/geopandas.sjoin.html)\n",
    "2) Plot the outline and all the points, marking the ones that are inside the outline.\n",
    "3) In a second figure, color the points by their ice thickness values\n",
    "4) How would you go about ensuring that the points you consider \"inside\" are at a minimum distance from the outline?"
   ]
  },
  {
   "cell_type": "code",
   "execution_count": null,
   "id": "352d93a5-7599-4359-83c6-9a1b556a8f30",
   "metadata": {},
   "outputs": [],
   "source": [
    "# Find the points that are inside the polygon\n",
    "# Step 1: Spatial Join\n",
    "points_inside = gpd.sjoin(..., ..., predicate=...)"
   ]
  },
  {
   "cell_type": "code",
   "execution_count": null,
   "id": "cbec09a8-f4d2-499b-8808-6b9b872bd458",
   "metadata": {},
   "outputs": [],
   "source": [
    "fig, ax = plt.subplots(figsize=(10, 10))\n",
    "silvretta_lv95.plot(ax=ax, marker=..., color=..., markersize..., alpha=..., zorder=1)\n",
    "points_inside.plot(ax=ax, marker=..., color=..., markersize=..., alpha=..., zorder=2)\n",
    "silv_outline.plot(ax=ax, color='steelblue', zorder=0)\n",
    "plt.title('Silvretta GPR')\n",
    "plt.xlabel('x')\n",
    "plt.ylabel('y')\n",
    "plt.show()"
   ]
  },
  {
   "cell_type": "code",
   "execution_count": null,
   "id": "1ff36883-829b-4540-bde7-761566eee50b",
   "metadata": {},
   "outputs": [],
   "source": [
    "# Now lets look at the ice thickness values for the points inside our outline\n",
    "fig, ax = plt.subplots(figsize=(10, 10))\n",
    "d = plt.scatter(\n",
    "    points_inside.geometry.x,  # x-coordinates of points\n",
    "    points_inside.geometry.y,  # y-coordinates of points\n",
    "    c=points_inside[...],  # values to use for coloring\n",
    "    cmap=...,  # colormap\n",
    "    s=...,  # size of markers\n",
    "    edgecolor=...,  # edge color of markers\n",
    "    alpha=...  # transparency\n",
    ")\n",
    "silv_outline.plot(ax=ax, edgecolor='k', facecolor='none', zorder=0)\n",
    "cbar = fig.colorbar(d, ax=ax, label='Thickness', shrink=0.5)\n",
    "plt.title('Silvretta GPR')\n",
    "plt.xlabel('x')\n",
    "plt.ylabel('y')\n",
    "plt.show()"
   ]
  },
  {
   "cell_type": "code",
   "execution_count": null,
   "id": "8a8fb245-ffe6-47e5-b2b0-9720a19a5f31",
   "metadata": {},
   "outputs": [],
   "source": [
    "# using an inside buffer\n",
    "silv_outline_buffered = ... #buffer inside\n",
    "silv_outline.loc[:,['buffered']] = silv_outline_buffered #add geometry as new column (could also replace original one)\n",
    "silv_outline = silv_outline.set_geometry('buffered') #set new column as geometry\n",
    "silv_outline = silv_outline.drop('geometry', axis=1) # if added as new column, drop old one, otherwise spatial join keeps geomety, which screws up the plotting\n",
    "points_inside_buff = gpd.sjoin(...) # re-run spatial join\n",
    "#plot"
   ]
  },
  {
   "cell_type": "markdown",
   "id": "087a9442-843d-48f6-8856-cc43db975ecd",
   "metadata": {},
   "source": [
    "### 9. Let's interpolate these points "
   ]
  },
  {
   "cell_type": "code",
   "execution_count": null,
   "id": "fbe1b219-d621-4e3f-ad35-b246c1d1805e",
   "metadata": {},
   "outputs": [],
   "source": [
    "# Extract the bounds of the polygon\n",
    "minx, miny, maxx, maxy = silv_outline.total_bounds\n",
    "# Create an empty grid for interpolation\n",
    "grid_x, grid_y = np.mgrid[minx:maxx:100j, miny:maxy:100j]  # 100j for a 100x100 grid"
   ]
  },
  {
   "cell_type": "code",
   "execution_count": null,
   "id": "7d54da79-9632-4e43-a652-30ca51493ad6",
   "metadata": {},
   "outputs": [],
   "source": [
    "points = np.array(list(zip(points_inside.geometry.x, points_inside.geometry.y)))\n",
    "values = points_inside['THICKNESS'].values"
   ]
  },
  {
   "cell_type": "code",
   "execution_count": null,
   "id": "02647d00-e986-4163-9b00-d8765c2eb00b",
   "metadata": {},
   "outputs": [],
   "source": [
    "grid_z = griddata(points, values, (grid_x, grid_y), method='linear') #try also cubic. Which one looks better?"
   ]
  },
  {
   "cell_type": "code",
   "execution_count": null,
   "id": "8c8ab670-e6bc-46df-82c6-ce656f1b1620",
   "metadata": {},
   "outputs": [],
   "source": [
    "f, ax = plt.subplots()\n",
    "#using imshow\n",
    "ax.imshow(grid_z.T, origin='lower', extent=[grid_x.min(), grid_x.max(), grid_y.min(), grid_y.max()], aspect='auto', cmap='Blues')\n",
    "#using contour\n",
    "#ax.contourf(grid_x, grid_y, grid_z, cmap='Blues')\n",
    "\n",
    "#add points from measurements\n",
    "d = plt.scatter(\n",
    "    points_inside.geometry.x,  # x-coordinates of points\n",
    "    points_inside.geometry.y,  # y-coordinates of points\n",
    "    c=points_inside['THICKNESS'],  # values to use for coloring\n",
    "    cmap='Blues',  # colormap\n",
    "    s=50,  # size of markers\n",
    "    edgecolor='none',  # edge color of markers\n",
    "    alpha=1  # transparency\n",
    ")\n",
    "silv_outline.plot(ax=ax, facecolor='None')"
   ]
  },
  {
   "cell_type": "code",
   "execution_count": null,
   "id": "0b893cc9-0b07-4af1-9dec-b0617014fe7a",
   "metadata": {},
   "outputs": [],
   "source": []
  }
 ],
 "metadata": {
  "kernelspec": {
   "display_name": "Python 3 (ipykernel)",
   "language": "python",
   "name": "python3"
  },
  "language_info": {
   "codemirror_mode": {
    "name": "ipython",
    "version": 3
   },
   "file_extension": ".py",
   "mimetype": "text/x-python",
   "name": "python",
   "nbconvert_exporter": "python",
   "pygments_lexer": "ipython3",
   "version": "3.11.9"
  }
 },
 "nbformat": 4,
 "nbformat_minor": 5
}
